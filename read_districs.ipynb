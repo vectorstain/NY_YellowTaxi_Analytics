{
 "cells": [
  {
   "cell_type": "code",
   "execution_count": 3,
   "metadata": {},
   "outputs": [
    {
     "ename": "FileNotFoundError",
     "evalue": "[Errno 2] No such file or directory: './data/raw/Type the file name (Must be in ./data/raw/)'",
     "output_type": "error",
     "traceback": [
      "\u001b[0;31m---------------------------------------------------------------------------\u001b[0m",
      "\u001b[0;31mFileNotFoundError\u001b[0m                         Traceback (most recent call last)",
      "Cell \u001b[0;32mIn [3], line 8\u001b[0m\n\u001b[1;32m      6\u001b[0m \u001b[39m#Type the file name (Must be in ./data/raw/)\u001b[39;00m\n\u001b[1;32m      7\u001b[0m file_name \u001b[39m=\u001b[39m \u001b[39minput\u001b[39m(\u001b[39m\"\u001b[39m\u001b[39mType the file name (Must be in ./data/raw/)\u001b[39m\u001b[39m\"\u001b[39m)\n\u001b[0;32m----> 8\u001b[0m district_df \u001b[39m=\u001b[39m pd\u001b[39m.\u001b[39;49mread_csv(\u001b[39m\"\u001b[39;49m\u001b[39m./data/raw/\u001b[39;49m\u001b[39m\"\u001b[39;49m\u001b[39m+\u001b[39;49mfile_name)\n\u001b[1;32m      9\u001b[0m district_df\u001b[39m.\u001b[39mhead()\n",
      "File \u001b[0;32m~/Library/Python/3.9/lib/python/site-packages/pandas/util/_decorators.py:211\u001b[0m, in \u001b[0;36mdeprecate_kwarg.<locals>._deprecate_kwarg.<locals>.wrapper\u001b[0;34m(*args, **kwargs)\u001b[0m\n\u001b[1;32m    209\u001b[0m     \u001b[39melse\u001b[39;00m:\n\u001b[1;32m    210\u001b[0m         kwargs[new_arg_name] \u001b[39m=\u001b[39m new_arg_value\n\u001b[0;32m--> 211\u001b[0m \u001b[39mreturn\u001b[39;00m func(\u001b[39m*\u001b[39;49margs, \u001b[39m*\u001b[39;49m\u001b[39m*\u001b[39;49mkwargs)\n",
      "File \u001b[0;32m~/Library/Python/3.9/lib/python/site-packages/pandas/util/_decorators.py:331\u001b[0m, in \u001b[0;36mdeprecate_nonkeyword_arguments.<locals>.decorate.<locals>.wrapper\u001b[0;34m(*args, **kwargs)\u001b[0m\n\u001b[1;32m    325\u001b[0m \u001b[39mif\u001b[39;00m \u001b[39mlen\u001b[39m(args) \u001b[39m>\u001b[39m num_allow_args:\n\u001b[1;32m    326\u001b[0m     warnings\u001b[39m.\u001b[39mwarn(\n\u001b[1;32m    327\u001b[0m         msg\u001b[39m.\u001b[39mformat(arguments\u001b[39m=\u001b[39m_format_argument_list(allow_args)),\n\u001b[1;32m    328\u001b[0m         \u001b[39mFutureWarning\u001b[39;00m,\n\u001b[1;32m    329\u001b[0m         stacklevel\u001b[39m=\u001b[39mfind_stack_level(),\n\u001b[1;32m    330\u001b[0m     )\n\u001b[0;32m--> 331\u001b[0m \u001b[39mreturn\u001b[39;00m func(\u001b[39m*\u001b[39;49margs, \u001b[39m*\u001b[39;49m\u001b[39m*\u001b[39;49mkwargs)\n",
      "File \u001b[0;32m~/Library/Python/3.9/lib/python/site-packages/pandas/io/parsers/readers.py:950\u001b[0m, in \u001b[0;36mread_csv\u001b[0;34m(filepath_or_buffer, sep, delimiter, header, names, index_col, usecols, squeeze, prefix, mangle_dupe_cols, dtype, engine, converters, true_values, false_values, skipinitialspace, skiprows, skipfooter, nrows, na_values, keep_default_na, na_filter, verbose, skip_blank_lines, parse_dates, infer_datetime_format, keep_date_col, date_parser, dayfirst, cache_dates, iterator, chunksize, compression, thousands, decimal, lineterminator, quotechar, quoting, doublequote, escapechar, comment, encoding, encoding_errors, dialect, error_bad_lines, warn_bad_lines, on_bad_lines, delim_whitespace, low_memory, memory_map, float_precision, storage_options)\u001b[0m\n\u001b[1;32m    935\u001b[0m kwds_defaults \u001b[39m=\u001b[39m _refine_defaults_read(\n\u001b[1;32m    936\u001b[0m     dialect,\n\u001b[1;32m    937\u001b[0m     delimiter,\n\u001b[0;32m   (...)\u001b[0m\n\u001b[1;32m    946\u001b[0m     defaults\u001b[39m=\u001b[39m{\u001b[39m\"\u001b[39m\u001b[39mdelimiter\u001b[39m\u001b[39m\"\u001b[39m: \u001b[39m\"\u001b[39m\u001b[39m,\u001b[39m\u001b[39m\"\u001b[39m},\n\u001b[1;32m    947\u001b[0m )\n\u001b[1;32m    948\u001b[0m kwds\u001b[39m.\u001b[39mupdate(kwds_defaults)\n\u001b[0;32m--> 950\u001b[0m \u001b[39mreturn\u001b[39;00m _read(filepath_or_buffer, kwds)\n",
      "File \u001b[0;32m~/Library/Python/3.9/lib/python/site-packages/pandas/io/parsers/readers.py:605\u001b[0m, in \u001b[0;36m_read\u001b[0;34m(filepath_or_buffer, kwds)\u001b[0m\n\u001b[1;32m    602\u001b[0m _validate_names(kwds\u001b[39m.\u001b[39mget(\u001b[39m\"\u001b[39m\u001b[39mnames\u001b[39m\u001b[39m\"\u001b[39m, \u001b[39mNone\u001b[39;00m))\n\u001b[1;32m    604\u001b[0m \u001b[39m# Create the parser.\u001b[39;00m\n\u001b[0;32m--> 605\u001b[0m parser \u001b[39m=\u001b[39m TextFileReader(filepath_or_buffer, \u001b[39m*\u001b[39;49m\u001b[39m*\u001b[39;49mkwds)\n\u001b[1;32m    607\u001b[0m \u001b[39mif\u001b[39;00m chunksize \u001b[39mor\u001b[39;00m iterator:\n\u001b[1;32m    608\u001b[0m     \u001b[39mreturn\u001b[39;00m parser\n",
      "File \u001b[0;32m~/Library/Python/3.9/lib/python/site-packages/pandas/io/parsers/readers.py:1442\u001b[0m, in \u001b[0;36mTextFileReader.__init__\u001b[0;34m(self, f, engine, **kwds)\u001b[0m\n\u001b[1;32m   1439\u001b[0m     \u001b[39mself\u001b[39m\u001b[39m.\u001b[39moptions[\u001b[39m\"\u001b[39m\u001b[39mhas_index_names\u001b[39m\u001b[39m\"\u001b[39m] \u001b[39m=\u001b[39m kwds[\u001b[39m\"\u001b[39m\u001b[39mhas_index_names\u001b[39m\u001b[39m\"\u001b[39m]\n\u001b[1;32m   1441\u001b[0m \u001b[39mself\u001b[39m\u001b[39m.\u001b[39mhandles: IOHandles \u001b[39m|\u001b[39m \u001b[39mNone\u001b[39;00m \u001b[39m=\u001b[39m \u001b[39mNone\u001b[39;00m\n\u001b[0;32m-> 1442\u001b[0m \u001b[39mself\u001b[39m\u001b[39m.\u001b[39m_engine \u001b[39m=\u001b[39m \u001b[39mself\u001b[39;49m\u001b[39m.\u001b[39;49m_make_engine(f, \u001b[39mself\u001b[39;49m\u001b[39m.\u001b[39;49mengine)\n",
      "File \u001b[0;32m~/Library/Python/3.9/lib/python/site-packages/pandas/io/parsers/readers.py:1735\u001b[0m, in \u001b[0;36mTextFileReader._make_engine\u001b[0;34m(self, f, engine)\u001b[0m\n\u001b[1;32m   1733\u001b[0m     \u001b[39mif\u001b[39;00m \u001b[39m\"\u001b[39m\u001b[39mb\u001b[39m\u001b[39m\"\u001b[39m \u001b[39mnot\u001b[39;00m \u001b[39min\u001b[39;00m mode:\n\u001b[1;32m   1734\u001b[0m         mode \u001b[39m+\u001b[39m\u001b[39m=\u001b[39m \u001b[39m\"\u001b[39m\u001b[39mb\u001b[39m\u001b[39m\"\u001b[39m\n\u001b[0;32m-> 1735\u001b[0m \u001b[39mself\u001b[39m\u001b[39m.\u001b[39mhandles \u001b[39m=\u001b[39m get_handle(\n\u001b[1;32m   1736\u001b[0m     f,\n\u001b[1;32m   1737\u001b[0m     mode,\n\u001b[1;32m   1738\u001b[0m     encoding\u001b[39m=\u001b[39;49m\u001b[39mself\u001b[39;49m\u001b[39m.\u001b[39;49moptions\u001b[39m.\u001b[39;49mget(\u001b[39m\"\u001b[39;49m\u001b[39mencoding\u001b[39;49m\u001b[39m\"\u001b[39;49m, \u001b[39mNone\u001b[39;49;00m),\n\u001b[1;32m   1739\u001b[0m     compression\u001b[39m=\u001b[39;49m\u001b[39mself\u001b[39;49m\u001b[39m.\u001b[39;49moptions\u001b[39m.\u001b[39;49mget(\u001b[39m\"\u001b[39;49m\u001b[39mcompression\u001b[39;49m\u001b[39m\"\u001b[39;49m, \u001b[39mNone\u001b[39;49;00m),\n\u001b[1;32m   1740\u001b[0m     memory_map\u001b[39m=\u001b[39;49m\u001b[39mself\u001b[39;49m\u001b[39m.\u001b[39;49moptions\u001b[39m.\u001b[39;49mget(\u001b[39m\"\u001b[39;49m\u001b[39mmemory_map\u001b[39;49m\u001b[39m\"\u001b[39;49m, \u001b[39mFalse\u001b[39;49;00m),\n\u001b[1;32m   1741\u001b[0m     is_text\u001b[39m=\u001b[39;49mis_text,\n\u001b[1;32m   1742\u001b[0m     errors\u001b[39m=\u001b[39;49m\u001b[39mself\u001b[39;49m\u001b[39m.\u001b[39;49moptions\u001b[39m.\u001b[39;49mget(\u001b[39m\"\u001b[39;49m\u001b[39mencoding_errors\u001b[39;49m\u001b[39m\"\u001b[39;49m, \u001b[39m\"\u001b[39;49m\u001b[39mstrict\u001b[39;49m\u001b[39m\"\u001b[39;49m),\n\u001b[1;32m   1743\u001b[0m     storage_options\u001b[39m=\u001b[39;49m\u001b[39mself\u001b[39;49m\u001b[39m.\u001b[39;49moptions\u001b[39m.\u001b[39;49mget(\u001b[39m\"\u001b[39;49m\u001b[39mstorage_options\u001b[39;49m\u001b[39m\"\u001b[39;49m, \u001b[39mNone\u001b[39;49;00m),\n\u001b[1;32m   1744\u001b[0m )\n\u001b[1;32m   1745\u001b[0m \u001b[39massert\u001b[39;00m \u001b[39mself\u001b[39m\u001b[39m.\u001b[39mhandles \u001b[39mis\u001b[39;00m \u001b[39mnot\u001b[39;00m \u001b[39mNone\u001b[39;00m\n\u001b[1;32m   1746\u001b[0m f \u001b[39m=\u001b[39m \u001b[39mself\u001b[39m\u001b[39m.\u001b[39mhandles\u001b[39m.\u001b[39mhandle\n",
      "File \u001b[0;32m~/Library/Python/3.9/lib/python/site-packages/pandas/io/common.py:856\u001b[0m, in \u001b[0;36mget_handle\u001b[0;34m(path_or_buf, mode, encoding, compression, memory_map, is_text, errors, storage_options)\u001b[0m\n\u001b[1;32m    851\u001b[0m \u001b[39melif\u001b[39;00m \u001b[39misinstance\u001b[39m(handle, \u001b[39mstr\u001b[39m):\n\u001b[1;32m    852\u001b[0m     \u001b[39m# Check whether the filename is to be opened in binary mode.\u001b[39;00m\n\u001b[1;32m    853\u001b[0m     \u001b[39m# Binary mode does not support 'encoding' and 'newline'.\u001b[39;00m\n\u001b[1;32m    854\u001b[0m     \u001b[39mif\u001b[39;00m ioargs\u001b[39m.\u001b[39mencoding \u001b[39mand\u001b[39;00m \u001b[39m\"\u001b[39m\u001b[39mb\u001b[39m\u001b[39m\"\u001b[39m \u001b[39mnot\u001b[39;00m \u001b[39min\u001b[39;00m ioargs\u001b[39m.\u001b[39mmode:\n\u001b[1;32m    855\u001b[0m         \u001b[39m# Encoding\u001b[39;00m\n\u001b[0;32m--> 856\u001b[0m         handle \u001b[39m=\u001b[39m \u001b[39mopen\u001b[39;49m(\n\u001b[1;32m    857\u001b[0m             handle,\n\u001b[1;32m    858\u001b[0m             ioargs\u001b[39m.\u001b[39;49mmode,\n\u001b[1;32m    859\u001b[0m             encoding\u001b[39m=\u001b[39;49mioargs\u001b[39m.\u001b[39;49mencoding,\n\u001b[1;32m    860\u001b[0m             errors\u001b[39m=\u001b[39;49merrors,\n\u001b[1;32m    861\u001b[0m             newline\u001b[39m=\u001b[39;49m\u001b[39m\"\u001b[39;49m\u001b[39m\"\u001b[39;49m,\n\u001b[1;32m    862\u001b[0m         )\n\u001b[1;32m    863\u001b[0m     \u001b[39melse\u001b[39;00m:\n\u001b[1;32m    864\u001b[0m         \u001b[39m# Binary mode\u001b[39;00m\n\u001b[1;32m    865\u001b[0m         handle \u001b[39m=\u001b[39m \u001b[39mopen\u001b[39m(handle, ioargs\u001b[39m.\u001b[39mmode)\n",
      "\u001b[0;31mFileNotFoundError\u001b[0m: [Errno 2] No such file or directory: './data/raw/Type the file name (Must be in ./data/raw/)'"
     ]
    }
   ],
   "source": [
    "import pandas as pd\n",
    "import numpy as np\n",
    "import matplotlib.pyplot as pl\n",
    "import seaborn as sns\n",
    "\n",
    "#Type the file name (Must be in ./data/raw/)\n",
    "file_name = input(\"Type the file name (Must be in ./data/raw/<file_name> dir): \")\n",
    "district_df = pd.read_csv(\"./data/raw/\"+file_name)\n",
    "district_df.head()"
   ]
  },
  {
   "cell_type": "code",
   "execution_count": 35,
   "metadata": {},
   "outputs": [
    {
     "data": {
      "text/plain": [
       "count        265\n",
       "unique         7\n",
       "top       Queens\n",
       "freq          69\n",
       "Name: Borough, dtype: object"
      ]
     },
     "execution_count": 35,
     "metadata": {},
     "output_type": "execute_result"
    }
   ],
   "source": [
    "district_df[\"Borough\"].describe()"
   ]
  },
  {
   "cell_type": "code",
   "execution_count": 6,
   "metadata": {},
   "outputs": [
    {
     "data": {
      "text/plain": [
       "array(['EWR', 'Queens', 'Bronx', 'Manhattan', 'Staten Island', 'Brooklyn',\n",
       "       'Unknown'], dtype=object)"
      ]
     },
     "execution_count": 6,
     "metadata": {},
     "output_type": "execute_result"
    }
   ],
   "source": [
    "district_df[\"Borough\"].unique()"
   ]
  },
  {
   "cell_type": "code",
   "execution_count": 36,
   "metadata": {},
   "outputs": [
    {
     "data": {
      "text/plain": [
       "count                                               264\n",
       "unique                                              261\n",
       "top       Governor's Island/Ellis Island/Liberty Island\n",
       "freq                                                  3\n",
       "Name: Zone, dtype: object"
      ]
     },
     "execution_count": 36,
     "metadata": {},
     "output_type": "execute_result"
    }
   ],
   "source": [
    "district_df[\"Zone\"].describe() "
   ]
  },
  {
   "cell_type": "code",
   "execution_count": 37,
   "metadata": {},
   "outputs": [
    {
     "data": {
      "text/plain": [
       "array(['Newark Airport', 'Jamaica Bay', 'Allerton/Pelham Gardens',\n",
       "       'Alphabet City', 'Arden Heights', 'Arrochar/Fort Wadsworth',\n",
       "       'Astoria', 'Astoria Park', 'Auburndale', 'Baisley Park',\n",
       "       'Bath Beach', 'Battery Park', 'Battery Park City', 'Bay Ridge',\n",
       "       'Bay Terrace/Fort Totten', 'Bayside', 'Bedford', 'Bedford Park',\n",
       "       'Bellerose', 'Belmont', 'Bensonhurst East', 'Bensonhurst West',\n",
       "       'Bloomfield/Emerson Hill', 'Bloomingdale', 'Boerum Hill',\n",
       "       'Borough Park', 'Breezy Point/Fort Tilden/Riis Beach',\n",
       "       'Briarwood/Jamaica Hills', 'Brighton Beach', 'Broad Channel',\n",
       "       'Bronx Park', 'Bronxdale', 'Brooklyn Heights',\n",
       "       'Brooklyn Navy Yard', 'Brownsville', 'Bushwick North',\n",
       "       'Bushwick South', 'Cambria Heights', 'Canarsie', 'Carroll Gardens',\n",
       "       'Central Harlem', 'Central Harlem North', 'Central Park',\n",
       "       'Charleston/Tottenville', 'Chinatown', 'City Island',\n",
       "       'Claremont/Bathgate', 'Clinton East', 'Clinton Hill',\n",
       "       'Clinton West', 'Co-Op City', 'Cobble Hill', 'College Point',\n",
       "       'Columbia Street', 'Coney Island', 'Corona', 'Country Club',\n",
       "       'Crotona Park', 'Crotona Park East', 'Crown Heights North',\n",
       "       'Crown Heights South', 'Cypress Hills', 'Douglaston',\n",
       "       'Downtown Brooklyn/MetroTech', 'DUMBO/Vinegar Hill',\n",
       "       'Dyker Heights', 'East Chelsea',\n",
       "       'East Concourse/Concourse Village', 'East Elmhurst',\n",
       "       'East Flatbush/Farragut', 'East Flatbush/Remsen Village',\n",
       "       'East Flushing', 'East Harlem North', 'East Harlem South',\n",
       "       'East New York', 'East New York/Pennsylvania Avenue',\n",
       "       'East Tremont', 'East Village', 'East Williamsburg', 'Eastchester',\n",
       "       'Elmhurst', 'Elmhurst/Maspeth',\n",
       "       \"Eltingville/Annadale/Prince's Bay\", 'Erasmus', 'Far Rockaway',\n",
       "       'Financial District North', 'Financial District South',\n",
       "       'Flatbush/Ditmas Park', 'Flatiron', 'Flatlands', 'Flushing',\n",
       "       'Flushing Meadows-Corona Park', 'Fordham South', 'Forest Hills',\n",
       "       'Forest Park/Highland Park', 'Fort Greene', 'Fresh Meadows',\n",
       "       'Freshkills Park', 'Garment District', 'Glen Oaks', 'Glendale',\n",
       "       \"Governor's Island/Ellis Island/Liberty Island\", 'Gowanus',\n",
       "       'Gramercy', 'Gravesend', 'Great Kills', 'Great Kills Park',\n",
       "       'Green-Wood Cemetery', 'Greenpoint', 'Greenwich Village North',\n",
       "       'Greenwich Village South', 'Grymes Hill/Clifton',\n",
       "       'Hamilton Heights', 'Hammels/Arverne',\n",
       "       'Heartland Village/Todt Hill', 'Highbridge', 'Highbridge Park',\n",
       "       'Hillcrest/Pomonok', 'Hollis', 'Homecrest', 'Howard Beach',\n",
       "       'Hudson Sq', 'Hunts Point', 'Inwood', 'Inwood Hill Park',\n",
       "       'Jackson Heights', 'Jamaica', 'Jamaica Estates', 'JFK Airport',\n",
       "       'Kensington', 'Kew Gardens', 'Kew Gardens Hills',\n",
       "       'Kingsbridge Heights', 'Kips Bay', 'LaGuardia Airport',\n",
       "       'Laurelton', 'Lenox Hill East', 'Lenox Hill West',\n",
       "       'Lincoln Square East', 'Lincoln Square West',\n",
       "       'Little Italy/NoLiTa', 'Long Island City/Hunters Point',\n",
       "       'Long Island City/Queens Plaza', 'Longwood', 'Lower East Side',\n",
       "       'Madison', 'Manhattan Beach', 'Manhattan Valley', 'Manhattanville',\n",
       "       'Marble Hill', 'Marine Park/Floyd Bennett Field',\n",
       "       'Marine Park/Mill Basin', 'Mariners Harbor', 'Maspeth',\n",
       "       'Meatpacking/West Village West', 'Melrose South', 'Middle Village',\n",
       "       'Midtown Center', 'Midtown East', 'Midtown North', 'Midtown South',\n",
       "       'Midwood', 'Morningside Heights', 'Morrisania/Melrose',\n",
       "       'Mott Haven/Port Morris', 'Mount Hope', 'Murray Hill',\n",
       "       'Murray Hill-Queens', 'New Dorp/Midland Beach', 'North Corona',\n",
       "       'Norwood', 'Oakland Gardens', 'Oakwood', 'Ocean Hill',\n",
       "       'Ocean Parkway South', 'Old Astoria', 'Ozone Park', 'Park Slope',\n",
       "       'Parkchester', 'Pelham Bay', 'Pelham Bay Park', 'Pelham Parkway',\n",
       "       'Penn Station/Madison Sq West', 'Port Richmond',\n",
       "       'Prospect-Lefferts Gardens', 'Prospect Heights', 'Prospect Park',\n",
       "       'Queens Village', 'Queensboro Hill', 'Queensbridge/Ravenswood',\n",
       "       'Randalls Island', 'Red Hook', 'Rego Park', 'Richmond Hill',\n",
       "       'Ridgewood', 'Rikers Island',\n",
       "       'Riverdale/North Riverdale/Fieldston', 'Rockaway Park',\n",
       "       'Roosevelt Island', 'Rosedale', 'Rossville/Woodrow',\n",
       "       'Saint Albans', 'Saint George/New Brighton',\n",
       "       'Saint Michaels Cemetery/Woodside', 'Schuylerville/Edgewater Park',\n",
       "       'Seaport', 'Sheepshead Bay', 'SoHo', 'Soundview/Bruckner',\n",
       "       'Soundview/Castle Hill', 'South Beach/Dongan Hills',\n",
       "       'South Jamaica', 'South Ozone Park', 'South Williamsburg',\n",
       "       'Springfield Gardens North', 'Springfield Gardens South',\n",
       "       'Spuyten Duyvil/Kingsbridge', 'Stapleton', 'Starrett City',\n",
       "       'Steinway', 'Stuy Town/Peter Cooper Village', 'Stuyvesant Heights',\n",
       "       'Sunnyside', 'Sunset Park East', 'Sunset Park West',\n",
       "       'Sutton Place/Turtle Bay North', 'Times Sq/Theatre District',\n",
       "       'TriBeCa/Civic Center', 'Two Bridges/Seward Park',\n",
       "       'UN/Turtle Bay South', 'Union Sq',\n",
       "       'University Heights/Morris Heights', 'Upper East Side North',\n",
       "       'Upper East Side South', 'Upper West Side North',\n",
       "       'Upper West Side South', 'Van Cortlandt Park',\n",
       "       'Van Cortlandt Village', 'Van Nest/Morris Park',\n",
       "       'Washington Heights North', 'Washington Heights South',\n",
       "       'West Brighton', 'West Chelsea/Hudson Yards', 'West Concourse',\n",
       "       'West Farms/Bronx River', 'West Village',\n",
       "       'Westchester Village/Unionport', 'Westerleigh', 'Whitestone',\n",
       "       'Willets Point', 'Williamsbridge/Olinville',\n",
       "       'Williamsburg (North Side)', 'Williamsburg (South Side)',\n",
       "       'Windsor Terrace', 'Woodhaven', 'Woodlawn/Wakefield', 'Woodside',\n",
       "       'World Trade Center', 'Yorkville East', 'Yorkville West', 'NV',\n",
       "       nan], dtype=object)"
      ]
     },
     "execution_count": 37,
     "metadata": {},
     "output_type": "execute_result"
    }
   ],
   "source": [
    "district_df[\"Zone\"].unique() "
   ]
  },
  {
   "cell_type": "code",
   "execution_count": 33,
   "metadata": {},
   "outputs": [
    {
     "data": {
      "text/plain": [
       "count           263\n",
       "unique            4\n",
       "top       Boro Zone\n",
       "freq            205\n",
       "Name: service_zone, dtype: object"
      ]
     },
     "execution_count": 33,
     "metadata": {},
     "output_type": "execute_result"
    }
   ],
   "source": [
    "\n",
    "district_df[\"service_zone\"].describe()"
   ]
  },
  {
   "cell_type": "code",
   "execution_count": 34,
   "metadata": {},
   "outputs": [
    {
     "data": {
      "text/plain": [
       "array(['EWR', 'Boro Zone', 'Yellow Zone', 'Airports', nan], dtype=object)"
      ]
     },
     "execution_count": 34,
     "metadata": {},
     "output_type": "execute_result"
    }
   ],
   "source": [
    "district_df[\"service_zone\"].unique()"
   ]
  },
  {
   "cell_type": "code",
   "execution_count": 30,
   "metadata": {},
   "outputs": [
    {
     "data": {
      "text/plain": [
       "array([  1,   2,   3,   4,   5,   6,   7,   8,   9,  10,  11,  12,  13,\n",
       "        14,  15,  16,  17,  18,  19,  20,  21,  22,  23,  24,  25,  26,\n",
       "        27,  28,  29,  30,  31,  32,  33,  34,  35,  36,  37,  38,  39,\n",
       "        40,  41,  42,  43,  44,  45,  46,  47,  48,  49,  50,  51,  52,\n",
       "        53,  54,  55,  56,  57,  58,  59,  60,  61,  62,  63,  64,  65,\n",
       "        66,  67,  68,  69,  70,  71,  72,  73,  74,  75,  76,  77,  78,\n",
       "        79,  80,  81,  82,  83,  84,  85,  86,  87,  88,  89,  90,  91,\n",
       "        92,  93,  94,  95,  96,  97,  98,  99, 100, 101, 102, 103, 104,\n",
       "       105, 106, 107, 108, 109, 110, 111, 112, 113, 114, 115, 116, 117,\n",
       "       118, 119, 120, 121, 122, 123, 124, 125, 126, 127, 128, 129, 130,\n",
       "       131, 132, 133, 134, 135, 136, 137, 138, 139, 140, 141, 142, 143,\n",
       "       144, 145, 146, 147, 148, 149, 150, 151, 152, 153, 154, 155, 156,\n",
       "       157, 158, 159, 160, 161, 162, 163, 164, 165, 166, 167, 168, 169,\n",
       "       170, 171, 172, 173, 174, 175, 176, 177, 178, 179, 180, 181, 182,\n",
       "       183, 184, 185, 186, 187, 188, 189, 190, 191, 192, 193, 194, 195,\n",
       "       196, 197, 198, 199, 200, 201, 202, 203, 204, 205, 206, 207, 208,\n",
       "       209, 210, 211, 212, 213, 214, 215, 216, 217, 218, 219, 220, 221,\n",
       "       222, 223, 224, 225, 226, 227, 228, 229, 230, 231, 232, 233, 234,\n",
       "       235, 236, 237, 238, 239, 240, 241, 242, 243, 244, 245, 246, 247,\n",
       "       248, 249, 250, 251, 252, 253, 254, 255, 256, 257, 258, 259, 260,\n",
       "       261, 262, 263, 264, 265])"
      ]
     },
     "execution_count": 30,
     "metadata": {},
     "output_type": "execute_result"
    }
   ],
   "source": [
    "district_df[\"LocationID\"].unique()"
   ]
  },
  {
   "cell_type": "code",
   "execution_count": 19,
   "metadata": {},
   "outputs": [
    {
     "name": "stdout",
     "output_type": "stream",
     "text": [
      "<class 'pandas.core.frame.DataFrame'>\n",
      "RangeIndex: 265 entries, 0 to 264\n",
      "Data columns (total 4 columns):\n",
      " #   Column        Non-Null Count  Dtype \n",
      "---  ------        --------------  ----- \n",
      " 0   LocationID    265 non-null    int64 \n",
      " 1   Borough       265 non-null    object\n",
      " 2   Zone          264 non-null    object\n",
      " 3   service_zone  263 non-null    object\n",
      "dtypes: int64(1), object(3)\n",
      "memory usage: 8.4+ KB\n"
     ]
    }
   ],
   "source": [
    "district_df.info()"
   ]
  },
  {
   "cell_type": "code",
   "execution_count": 15,
   "metadata": {},
   "outputs": [
    {
     "data": {
      "text/plain": [
       "(265, 4)"
      ]
     },
     "execution_count": 15,
     "metadata": {},
     "output_type": "execute_result"
    }
   ],
   "source": [
    "district_df.shape"
   ]
  }
 ],
 "metadata": {
  "kernelspec": {
   "display_name": "Python 3.9.6 64-bit",
   "language": "python",
   "name": "python3"
  },
  "language_info": {
   "codemirror_mode": {
    "name": "ipython",
    "version": 3
   },
   "file_extension": ".py",
   "mimetype": "text/x-python",
   "name": "python",
   "nbconvert_exporter": "python",
   "pygments_lexer": "ipython3",
   "version": "3.9.6"
  },
  "orig_nbformat": 4,
  "vscode": {
   "interpreter": {
    "hash": "31f2aee4e71d21fbe5cf8b01ff0e069b9275f58929596ceb00d14d90e3e16cd6"
   }
  }
 },
 "nbformat": 4,
 "nbformat_minor": 2
}
